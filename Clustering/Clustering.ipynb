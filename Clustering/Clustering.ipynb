{
 "cells": [
  {
   "cell_type": "markdown",
   "metadata": {},
   "source": [
    "### Introduction\n",
    "\n",
    "- In this notebook we are going to deal with a unsupervised learning (learning without teacher) problem called clustering.\n",
    "- **Clustering** is a classical problem of Machine Learning which do not require any labels for any predictions. It is used to find patterns in data.\n",
    "\n",
    "The collected data contains stocks of various companies collected for a period of time.\n",
    "\n",
    "### Steps Involved:\n",
    "\n",
    "1. Importing dataset\n",
    "2. Exploratory Data Analysis (EDA) and Preprocessing\n",
    "3. Feature Engineering\n",
    "4. Model Building\n",
    "5. Model Training\n",
    "6. Model Testing\n",
    "7. Inference\n",
    "8. Optimization"
   ]
  },
  {
   "cell_type": "markdown",
   "metadata": {},
   "source": [
    "1. **Importing dataset-** In this notebook we are going to use [pandas](https://pandas.pydata.org/) for loading our dataset. As our dataset is small, pandas works best in our case. For data sized upto Gigs we can use [datatable](https://github.com/h2oai/datatable).\n",
    "\n",
    "2. **EDA and Preprocessing-** EDA, a crucial step that lets you get friendly with the data. It involves inspection of data through methods of dataframe object, visualization, statistics and hypothesis generation. EDA tells which preprocessing technique to use.\n",
    "    \n",
    "    Preprocessing can be defined as a method which makes our data suitable to fit on a machine learning model. Strategies that can be used in preprocessing of data is removing the NaN (missing) values, filling the NaN or impute those values using mean, median or mode, data type of the columns,dropping the unnecessary columns etc.\n",
    "        \n",
    "3. **Feature Engineering-** Feature Engineering involves feature selection or feature generation.\n",
    "    - **Feature selection-** It involves selection of relevant features from the available set of features. The selection can be the entire set of features or a subset of it.\n",
    "    \n",
    "    - **Feature generation-** Construction or extraction of new features from the existing features. Useful when we have low set of features. The construction of feature is all mathematical and based on the domain expertise.\n",
    "\n",
    "4. **Model Building-** In this step the suitable machine learning model is used. The data is divided into train and test set.\n",
    "\n",
    "5. **Model Training-** Fitting the features into a machine learning model. The value of hyperparameters can use the default value or can be tuned in **Optimization** phase.\n",
    "\n",
    "6. **Model Testing-** After the model has learned the pattern of data points(features) it is the time to evaluate our model performance. The model is going to be evaluated on a different performance metrics.\n",
    "\n",
    "7. **Inference-** We have evaluated our model, its time to generate inference from the saved model.\n",
    "\n",
    "8. **Optimization-** In this step we tune the hyperparameters or the learned model. The hyperparameters can be tuned by using GridSearch. The learned model can be tuned by using cross-validation technique.\n",
    "\n",
    "\n",
    "### Frameworks used:\n",
    "- pandas\n",
    "- matplotlib\n",
    "- scikit-learn"
   ]
  },
  {
   "cell_type": "markdown",
   "metadata": {},
   "source": [
    "### 1. Importing dataset"
   ]
  },
  {
   "cell_type": "markdown",
   "metadata": {},
   "source": [
    "#### Looking for the dataset directory"
   ]
  },
  {
   "cell_type": "code",
   "execution_count": 1,
   "metadata": {},
   "outputs": [
    {
     "data": {
      "text/plain": [
       "['Clustering.ipynb', 'data']"
      ]
     },
     "execution_count": 1,
     "metadata": {},
     "output_type": "execute_result"
    }
   ],
   "source": [
    "from glob import glob\n",
    "files = glob('*')\n",
    "\n",
    "files"
   ]
  },
  {
   "cell_type": "markdown",
   "metadata": {},
   "source": [
    "The dataset is residing in **data** directory.\n",
    "\n",
    "#### Getting file name"
   ]
  },
  {
   "cell_type": "code",
   "execution_count": 2,
   "metadata": {},
   "outputs": [
    {
     "data": {
      "text/plain": [
       "['data/Telco-Customer-Churn.csv', 'data/stocks.csv']"
      ]
     },
     "execution_count": 2,
     "metadata": {},
     "output_type": "execute_result"
    }
   ],
   "source": [
    "dataset = glob('data/*')\n",
    "\n",
    "dataset"
   ]
  },
  {
   "cell_type": "markdown",
   "metadata": {},
   "source": [
    "#### Loading data into DataFrame using pandas."
   ]
  },
  {
   "cell_type": "code",
   "execution_count": 3,
   "metadata": {},
   "outputs": [],
   "source": [
    "import pandas as pd\n",
    "\n",
    "telco_user_churn = pd.read_csv('data/Telco-Customer-Churn.csv')"
   ]
  },
  {
   "cell_type": "markdown",
   "metadata": {},
   "source": [
    "#### Inspecting first 5 rows of dataset"
   ]
  },
  {
   "cell_type": "code",
   "execution_count": 4,
   "metadata": {},
   "outputs": [
    {
     "data": {
      "text/html": [
       "<div>\n",
       "<style scoped>\n",
       "    .dataframe tbody tr th:only-of-type {\n",
       "        vertical-align: middle;\n",
       "    }\n",
       "\n",
       "    .dataframe tbody tr th {\n",
       "        vertical-align: top;\n",
       "    }\n",
       "\n",
       "    .dataframe thead th {\n",
       "        text-align: right;\n",
       "    }\n",
       "</style>\n",
       "<table border=\"1\" class=\"dataframe\">\n",
       "  <thead>\n",
       "    <tr style=\"text-align: right;\">\n",
       "      <th></th>\n",
       "      <th>customerID</th>\n",
       "      <th>gender</th>\n",
       "      <th>SeniorCitizen</th>\n",
       "      <th>Partner</th>\n",
       "      <th>Dependents</th>\n",
       "      <th>tenure</th>\n",
       "      <th>PhoneService</th>\n",
       "      <th>MultipleLines</th>\n",
       "      <th>InternetService</th>\n",
       "      <th>OnlineSecurity</th>\n",
       "      <th>...</th>\n",
       "      <th>DeviceProtection</th>\n",
       "      <th>TechSupport</th>\n",
       "      <th>StreamingTV</th>\n",
       "      <th>StreamingMovies</th>\n",
       "      <th>Contract</th>\n",
       "      <th>PaperlessBilling</th>\n",
       "      <th>PaymentMethod</th>\n",
       "      <th>MonthlyCharges</th>\n",
       "      <th>TotalCharges</th>\n",
       "      <th>Churn</th>\n",
       "    </tr>\n",
       "  </thead>\n",
       "  <tbody>\n",
       "    <tr>\n",
       "      <th>0</th>\n",
       "      <td>7590-VHVEG</td>\n",
       "      <td>Female</td>\n",
       "      <td>0</td>\n",
       "      <td>Yes</td>\n",
       "      <td>No</td>\n",
       "      <td>1</td>\n",
       "      <td>No</td>\n",
       "      <td>No phone service</td>\n",
       "      <td>DSL</td>\n",
       "      <td>No</td>\n",
       "      <td>...</td>\n",
       "      <td>No</td>\n",
       "      <td>No</td>\n",
       "      <td>No</td>\n",
       "      <td>No</td>\n",
       "      <td>Month-to-month</td>\n",
       "      <td>Yes</td>\n",
       "      <td>Electronic check</td>\n",
       "      <td>29.85</td>\n",
       "      <td>29.85</td>\n",
       "      <td>No</td>\n",
       "    </tr>\n",
       "    <tr>\n",
       "      <th>1</th>\n",
       "      <td>5575-GNVDE</td>\n",
       "      <td>Male</td>\n",
       "      <td>0</td>\n",
       "      <td>No</td>\n",
       "      <td>No</td>\n",
       "      <td>34</td>\n",
       "      <td>Yes</td>\n",
       "      <td>No</td>\n",
       "      <td>DSL</td>\n",
       "      <td>Yes</td>\n",
       "      <td>...</td>\n",
       "      <td>Yes</td>\n",
       "      <td>No</td>\n",
       "      <td>No</td>\n",
       "      <td>No</td>\n",
       "      <td>One year</td>\n",
       "      <td>No</td>\n",
       "      <td>Mailed check</td>\n",
       "      <td>56.95</td>\n",
       "      <td>1889.5</td>\n",
       "      <td>No</td>\n",
       "    </tr>\n",
       "    <tr>\n",
       "      <th>2</th>\n",
       "      <td>3668-QPYBK</td>\n",
       "      <td>Male</td>\n",
       "      <td>0</td>\n",
       "      <td>No</td>\n",
       "      <td>No</td>\n",
       "      <td>2</td>\n",
       "      <td>Yes</td>\n",
       "      <td>No</td>\n",
       "      <td>DSL</td>\n",
       "      <td>Yes</td>\n",
       "      <td>...</td>\n",
       "      <td>No</td>\n",
       "      <td>No</td>\n",
       "      <td>No</td>\n",
       "      <td>No</td>\n",
       "      <td>Month-to-month</td>\n",
       "      <td>Yes</td>\n",
       "      <td>Mailed check</td>\n",
       "      <td>53.85</td>\n",
       "      <td>108.15</td>\n",
       "      <td>Yes</td>\n",
       "    </tr>\n",
       "    <tr>\n",
       "      <th>3</th>\n",
       "      <td>7795-CFOCW</td>\n",
       "      <td>Male</td>\n",
       "      <td>0</td>\n",
       "      <td>No</td>\n",
       "      <td>No</td>\n",
       "      <td>45</td>\n",
       "      <td>No</td>\n",
       "      <td>No phone service</td>\n",
       "      <td>DSL</td>\n",
       "      <td>Yes</td>\n",
       "      <td>...</td>\n",
       "      <td>Yes</td>\n",
       "      <td>Yes</td>\n",
       "      <td>No</td>\n",
       "      <td>No</td>\n",
       "      <td>One year</td>\n",
       "      <td>No</td>\n",
       "      <td>Bank transfer (automatic)</td>\n",
       "      <td>42.30</td>\n",
       "      <td>1840.75</td>\n",
       "      <td>No</td>\n",
       "    </tr>\n",
       "    <tr>\n",
       "      <th>4</th>\n",
       "      <td>9237-HQITU</td>\n",
       "      <td>Female</td>\n",
       "      <td>0</td>\n",
       "      <td>No</td>\n",
       "      <td>No</td>\n",
       "      <td>2</td>\n",
       "      <td>Yes</td>\n",
       "      <td>No</td>\n",
       "      <td>Fiber optic</td>\n",
       "      <td>No</td>\n",
       "      <td>...</td>\n",
       "      <td>No</td>\n",
       "      <td>No</td>\n",
       "      <td>No</td>\n",
       "      <td>No</td>\n",
       "      <td>Month-to-month</td>\n",
       "      <td>Yes</td>\n",
       "      <td>Electronic check</td>\n",
       "      <td>70.70</td>\n",
       "      <td>151.65</td>\n",
       "      <td>Yes</td>\n",
       "    </tr>\n",
       "  </tbody>\n",
       "</table>\n",
       "<p>5 rows × 21 columns</p>\n",
       "</div>"
      ],
      "text/plain": [
       "   customerID  gender  SeniorCitizen Partner Dependents  tenure PhoneService  \\\n",
       "0  7590-VHVEG  Female              0     Yes         No       1           No   \n",
       "1  5575-GNVDE    Male              0      No         No      34          Yes   \n",
       "2  3668-QPYBK    Male              0      No         No       2          Yes   \n",
       "3  7795-CFOCW    Male              0      No         No      45           No   \n",
       "4  9237-HQITU  Female              0      No         No       2          Yes   \n",
       "\n",
       "      MultipleLines InternetService OnlineSecurity  ... DeviceProtection  \\\n",
       "0  No phone service             DSL             No  ...               No   \n",
       "1                No             DSL            Yes  ...              Yes   \n",
       "2                No             DSL            Yes  ...               No   \n",
       "3  No phone service             DSL            Yes  ...              Yes   \n",
       "4                No     Fiber optic             No  ...               No   \n",
       "\n",
       "  TechSupport StreamingTV StreamingMovies        Contract PaperlessBilling  \\\n",
       "0          No          No              No  Month-to-month              Yes   \n",
       "1          No          No              No        One year               No   \n",
       "2          No          No              No  Month-to-month              Yes   \n",
       "3         Yes          No              No        One year               No   \n",
       "4          No          No              No  Month-to-month              Yes   \n",
       "\n",
       "               PaymentMethod MonthlyCharges  TotalCharges Churn  \n",
       "0           Electronic check          29.85         29.85    No  \n",
       "1               Mailed check          56.95        1889.5    No  \n",
       "2               Mailed check          53.85        108.15   Yes  \n",
       "3  Bank transfer (automatic)          42.30       1840.75    No  \n",
       "4           Electronic check          70.70        151.65   Yes  \n",
       "\n",
       "[5 rows x 21 columns]"
      ]
     },
     "execution_count": 4,
     "metadata": {},
     "output_type": "execute_result"
    }
   ],
   "source": [
    "telco_user_churn.head()"
   ]
  },
  {
   "cell_type": "markdown",
   "metadata": {},
   "source": [
    "#### Number of rows and columns in our dataset"
   ]
  },
  {
   "cell_type": "code",
   "execution_count": 5,
   "metadata": {},
   "outputs": [
    {
     "data": {
      "text/plain": [
       "(7043, 21)"
      ]
     },
     "execution_count": 5,
     "metadata": {},
     "output_type": "execute_result"
    }
   ],
   "source": [
    "telco_user_churn.shape"
   ]
  },
  {
   "cell_type": "markdown",
   "metadata": {},
   "source": [
    "**Rows= 7043, Columns= 21**"
   ]
  },
  {
   "cell_type": "markdown",
   "metadata": {},
   "source": [
    "### 2. Exploratory Data Analysis (EDA) and Preprocessing"
   ]
  },
  {
   "cell_type": "markdown",
   "metadata": {},
   "source": [
    "**Inspecting the columns datatype and how many of them have null values.**"
   ]
  },
  {
   "cell_type": "code",
   "execution_count": 6,
   "metadata": {},
   "outputs": [
    {
     "name": "stdout",
     "output_type": "stream",
     "text": [
      "<class 'pandas.core.frame.DataFrame'>\n",
      "RangeIndex: 7043 entries, 0 to 7042\n",
      "Data columns (total 21 columns):\n",
      "customerID          7043 non-null object\n",
      "gender              7043 non-null object\n",
      "SeniorCitizen       7043 non-null int64\n",
      "Partner             7043 non-null object\n",
      "Dependents          7043 non-null object\n",
      "tenure              7043 non-null int64\n",
      "PhoneService        7043 non-null object\n",
      "MultipleLines       7043 non-null object\n",
      "InternetService     7043 non-null object\n",
      "OnlineSecurity      7043 non-null object\n",
      "OnlineBackup        7043 non-null object\n",
      "DeviceProtection    7043 non-null object\n",
      "TechSupport         7043 non-null object\n",
      "StreamingTV         7043 non-null object\n",
      "StreamingMovies     7043 non-null object\n",
      "Contract            7043 non-null object\n",
      "PaperlessBilling    7043 non-null object\n",
      "PaymentMethod       7043 non-null object\n",
      "MonthlyCharges      7043 non-null float64\n",
      "TotalCharges        7043 non-null object\n",
      "Churn               7043 non-null object\n",
      "dtypes: float64(1), int64(2), object(18)\n",
      "memory usage: 1.1+ MB\n"
     ]
    }
   ],
   "source": [
    "telco_user_churn.info()"
   ]
  },
  {
   "cell_type": "markdown",
   "metadata": {},
   "source": [
    "#### Observations:\n",
    "\n",
    "- None of the columns have null values.\n",
    "- The **TotalCharges** column have a wrong datatype."
   ]
  },
  {
   "cell_type": "code",
   "execution_count": 7,
   "metadata": {},
   "outputs": [],
   "source": [
    "telco_user_churn.loc[telco_user_churn['TotalCharges'] == ' ', 'TotalCharges'] = '0'\n",
    "\n",
    "telco_user_churn['TotalCharges'] = telco_user_churn.TotalCharges.astype('float')"
   ]
  },
  {
   "cell_type": "markdown",
   "metadata": {},
   "source": [
    "#### Number of unique values in each column"
   ]
  },
  {
   "cell_type": "code",
   "execution_count": 8,
   "metadata": {},
   "outputs": [
    {
     "name": "stdout",
     "output_type": "stream",
     "text": [
      "customerID 7043\n",
      "gender 2\n",
      "SeniorCitizen 2\n",
      "Partner 2\n",
      "Dependents 2\n",
      "tenure 73\n",
      "PhoneService 2\n",
      "MultipleLines 3\n",
      "InternetService 3\n",
      "OnlineSecurity 3\n",
      "OnlineBackup 3\n",
      "DeviceProtection 3\n",
      "TechSupport 3\n",
      "StreamingTV 3\n",
      "StreamingMovies 3\n",
      "Contract 3\n",
      "PaperlessBilling 2\n",
      "PaymentMethod 4\n",
      "MonthlyCharges 1585\n",
      "TotalCharges 6531\n",
      "Churn 2\n"
     ]
    }
   ],
   "source": [
    "for col in telco_user_churn.columns:\n",
    "    print(col, telco_user_churn[col].nunique())"
   ]
  },
  {
   "cell_type": "code",
   "execution_count": 9,
   "metadata": {},
   "outputs": [],
   "source": [
    "from matplotlib import pyplot as plt\n",
    "\n",
    "plt.style.use('ggplot')"
   ]
  },
  {
   "cell_type": "markdown",
   "metadata": {},
   "source": [
    "#### Distribution of Male and Female with their churn rate"
   ]
  },
  {
   "cell_type": "code",
   "execution_count": 10,
   "metadata": {
    "scrolled": true
   },
   "outputs": [
    {
     "data": {
      "image/png": "[encoded data removed]",
      "text/plain": [
       "<Figure size 432x360 with 1 Axes>"
      ]
     },
     "metadata": {},
     "output_type": "display_data"
    }
   ],
   "source": [
    "plt.rcParams['figure.figsize'] = [6, 5]\n",
    "\n",
    "gender_count = telco_user_churn.gender.value_counts()\n",
    "churn_rate = [930, 2625, 939, 2549]\n",
    "\n",
    "# Colors\n",
    "male, female = [plt.cm.Blues, plt.cm.Reds]\n",
    "\n",
    "fig, ax = plt.subplots()\n",
    "ax.axis('equal')\n",
    "mypie, _ = ax.pie(gender_count.values, radius=1.3, labels=gender_count.index,\n",
    "                  colors=[male(0.6), female(0.75)])\n",
    "plt.setp(mypie, width=0.3, alpha=0.6)\n",
    "\n",
    "mypie2, _ = ax.pie(churn_rate, radius=1.3-0.3,  labeldistance=0.7,\n",
    "                   colors=[male(0.5), male(0.4), female(0.5), female(0.4)], shadow=True)\n",
    "plt.setp(mypie2, width=0.4)\n",
    "\n",
    "# Male distribution\n",
    "plt.annotate('{:.2f}%'.format(gender_count.values[0] / gender_count.values.sum() * 100), \n",
    "             xy=(.2, 1.1))\n",
    "\n",
    "# Male churn rate\n",
    "plt.annotate('Churn \\n{:.2f}%'.format(churn_rate[0] / gender_count.values[0] * 100), \n",
    "             xy=(.55, 0.4))\n",
    "\n",
    "# Female distribution\n",
    "plt.annotate('{:.2f}%'.format(gender_count.values[1] / gender_count.values.sum() * 100), \n",
    "             xy=(0, -1.2))\n",
    "\n",
    "# Female churn rate\n",
    "plt.annotate('Churn \\n{:.2f}%'.format(churn_rate[2] / gender_count.values[1] * 100), \n",
    "             xy=(-0.8, -0.5))\n",
    "\n",
    "plt.legend(loc='upper right')\n",
    "plt.show()"
   ]
  },
  {
   "cell_type": "markdown",
   "metadata": {},
   "source": [
    "**Observation:** Though males are high in number but females have more churn rate."
   ]
  },
  {
   "cell_type": "markdown",
   "metadata": {},
   "source": [
    "### How many users have phone service?"
   ]
  },
  {
   "cell_type": "code",
   "execution_count": 11,
   "metadata": {},
   "outputs": [
    {
     "data": {
      "image/png": "[encoded data removed]",
      "text/plain": [
       "<Figure size 720x144 with 1 Axes>"
      ]
     },
     "metadata": {
      "needs_background": "light"
     },
     "output_type": "display_data"
    }
   ],
   "source": [
    "plt.rcParams['figure.figsize'] = [10, 2]\n",
    "\n",
    "user_phone_service = telco_user_churn.PhoneService.value_counts(normalize=True)\n",
    "\n",
    "users = pd.DataFrame({'x': [user_phone_service.values[0]], 'y': [user_phone_service.values[1]]})\n",
    "\n",
    "users.plot(kind='barh', stacked=True, legend=False, \n",
    "          color=['#005f11', '#ef1100'], alpha=0.75)\n",
    "plt.axis('off')\n",
    "plt.annotate('Phone Users', xy=(0.35, 0.3), fontsize=14)\n",
    "plt.annotate(\"Don't Use\", xy=(0.89, 0.3), fontsize=13.5)\n",
    "plt.annotate(\"{:.2f}%\".format(users['x'][0]*100), xy=(0.37, 0),\n",
    "             color='#ffffff', fontsize=18)\n",
    "plt.annotate(\"{:.2f}%\".format(users['y'][0]*100), xy=(0.91, 0),\n",
    "             color='#ffffff', fontsize=15)\n",
    "plt.show()"
   ]
  },
  {
   "cell_type": "markdown",
   "metadata": {},
   "source": [
    "### Internet Service distribution and their churn rate"
   ]
  },
  {
   "cell_type": "code",
   "execution_count": 12,
   "metadata": {},
   "outputs": [
    {
     "data": {
      "image/png": "[encoded data removed]",
      "text/plain": [
       "<Figure size 720x360 with 1 Axes>"
      ]
     },
     "metadata": {
      "needs_background": "light"
     },
     "output_type": "display_data"
    }
   ],
   "source": [
    "import numpy as np\n",
    "\n",
    "plt.rcParams['figure.figsize'] = [10, 5]\n",
    "\n",
    "internet_service = telco_user_churn.InternetService.value_counts()\n",
    "churn_internet_service = telco_user_churn.loc[telco_user_churn.Churn == 'Yes', \n",
    "                                              'InternetService'].value_counts()\n",
    "distribution = []\n",
    "for val in internet_service.values:\n",
    "    distribution.append((val / np.sum(internet_service.values))*100)\n",
    "\n",
    "churn_rate = (churn_internet_service.values / internet_service.values) * 100\n",
    "             \n",
    "plt.bar(np.array([1, 2, 3]), distribution, width=0.20,\n",
    "        color=['#F39C12', '#E67E22', '#D35400'], label=\"Service Distribution\")\n",
    "plt.bar(np.array([1, 2, 3]) + 0.2, churn_rate, width=0.20, \n",
    "        label=\"Churn rate\", alpha=0.8)\n",
    "\n",
    "plt.xlabel('Service Type')\n",
    "plt.ylabel('Value in %')\n",
    "plt.xticks(np.array([1, 2, 3])+0.1, internet_service.index)\n",
    "\n",
    "# Service Distribution\n",
    "plt.annotate(\"{:.2f}%\".format(distribution[0]), (0.92, 41))\n",
    "plt.annotate(\"{:.2f}%\".format(distribution[1]), (1.92, 31))\n",
    "plt.annotate(\"{:.2f}%\".format(distribution[2]), (2.92, 19))\n",
    "\n",
    "# Churn rate\n",
    "plt.annotate(\"{:.2f}%\".format(churn_rate[0]), (1.12, 38))\n",
    "plt.annotate(\"{:.2f}%\".format(churn_rate[1]), (2.12, 16))\n",
    "plt.annotate(\"{:.2f}%\".format(churn_rate[2]), (3.12, 5))\n",
    "\n",
    "plt.legend()\n",
    "plt.show()"
   ]
  },
  {
   "cell_type": "markdown",
   "metadata": {},
   "source": [
    "### Phone Users that have internet service and their churn rate"
   ]
  },
  {
   "cell_type": "code",
   "execution_count": 13,
   "metadata": {},
   "outputs": [
    {
     "data": {
      "image/png": "[encoded data removed]",
      "text/plain": [
       "<Figure size 720x360 with 1 Axes>"
      ]
     },
     "metadata": {
      "needs_background": "light"
     },
     "output_type": "display_data"
    }
   ],
   "source": [
    "plt.rcParams['figure.figsize'] = [10, 5]\n",
    "\n",
    "have_internet = telco_user_churn.loc[telco_user_churn.PhoneService == 'Yes', \n",
    "                                     'InternetService'].value_counts()\n",
    "\n",
    "churn_internet_service = telco_user_churn.loc[(telco_user_churn.PhoneService == 'Yes') & \n",
    "                                  (telco_user_churn.Churn == 'Yes'), 'InternetService'].value_counts()\n",
    "\n",
    "distribution = []\n",
    "for val in have_internet.values:\n",
    "    distribution.append((val / have_internet.values.sum())*100)\n",
    "\n",
    "churn_rate = (churn_internet_service.values / have_internet.values) * 100\n",
    "             \n",
    "plt.bar(np.array([1, 2, 3]), distribution, width=0.20,\n",
    "        color=['#F39C12', '#E67E22', '#D35400'], label=\"Service Distribution\")\n",
    "plt.bar(np.array([1, 2, 3]) + 0.2, churn_rate, width=0.20, \n",
    "        label=\"Churn rate\", alpha=0.8)\n",
    "\n",
    "plt.xlabel('Service Type')\n",
    "plt.ylabel('Value in %')\n",
    "plt.xticks(np.array([1, 2, 3])+0.1, internet_service.index)\n",
    "\n",
    "# Service Distribution\n",
    "plt.annotate(\"{:.2f}%\".format(distribution[0]), (0.92, 45))\n",
    "plt.annotate(\"{:.2f}%\".format(distribution[1]), (1.92, 25))\n",
    "plt.annotate(\"{:.2f}%\".format(distribution[2]), (2.92, 20))\n",
    "\n",
    "# Churn rate\n",
    "plt.annotate(\"{:.2f}%\".format(churn_rate[0]), (1.12, 38))\n",
    "plt.annotate(\"{:.2f}%\".format(churn_rate[1]), (2.12, 14))\n",
    "plt.annotate(\"{:.2f}%\".format(churn_rate[2]), (3.12, 5))\n",
    "\n",
    "plt.legend()\n",
    "plt.show()"
   ]
  },
  {
   "cell_type": "markdown",
   "metadata": {},
   "source": [
    "#### Fiber optics users have more churn rate"
   ]
  },
  {
   "cell_type": "markdown",
   "metadata": {},
   "source": [
    "### What are the causes of such a huge churn rate for fiber optics users?"
   ]
  },
  {
   "cell_type": "markdown",
   "metadata": {},
   "source": [
    "#### Do tech support affects the churn rate?"
   ]
  },
  {
   "cell_type": "code",
   "execution_count": 14,
   "metadata": {},
   "outputs": [
    {
     "data": {
      "text/markdown": [
       "### Facts:"
      ],
      "text/plain": [
       "<IPython.core.display.Markdown object>"
      ]
     },
     "metadata": {},
     "output_type": "display_data"
    },
    {
     "data": {
      "text/markdown": [
       "- Out of <strong style=\"font-size:18px;\">3096</strong> fiber optic users, only  <strong style=\"font-size:17px;color:red;\">27.97%</strong>  opted Tech Support."
      ],
      "text/plain": [
       "<IPython.core.display.Markdown object>"
      ]
     },
     "metadata": {},
     "output_type": "display_data"
    },
    {
     "data": {
      "text/markdown": [
       "- The users who opted tech support have churn rate of <strong style=\"font-size:18px;color:red;\">22.63%</strong>"
      ],
      "text/plain": [
       "<IPython.core.display.Markdown object>"
      ]
     },
     "metadata": {},
     "output_type": "display_data"
    },
    {
     "data": {
      "text/markdown": [
       "- On the other hand users who didn't adopt tech support have a churn rate of <strong style=\"font-size:18px;color:red;\">49.37%</strong>"
      ],
      "text/plain": [
       "<IPython.core.display.Markdown object>"
      ]
     },
     "metadata": {},
     "output_type": "display_data"
    }
   ],
   "source": [
    "from IPython.display import display, Markdown\n",
    "\n",
    "tech_support = telco_user_churn.loc[telco_user_churn.InternetService == 'Fiber optic',\n",
    "                                    'TechSupport'].value_counts()\n",
    "yes = telco_user_churn.loc[(telco_user_churn.InternetService == 'Fiber optic') &\n",
    "                           (telco_user_churn.TechSupport == 'Yes'), 'Churn'].value_counts()\n",
    "no = telco_user_churn.loc[(telco_user_churn.InternetService == 'Fiber optic') &\n",
    "                           (telco_user_churn.TechSupport == 'No'), 'Churn'].value_counts()\n",
    "\n",
    "display(Markdown('### Facts:'))\n",
    "display(Markdown('- Out of <strong style=\"font-size:18px;\">{}</strong> fiber optic users, '\n",
    "                 'only  <strong style=\"font-size:17px;color:red;\">{:.2f}%</strong>  opted Tech Support.'.\n",
    "                 format(tech_support.values.sum(), tech_support.values[1] / tech_support.values.sum() * 100)))\n",
    "\n",
    "display(Markdown('- The users who opted tech support have churn rate of '\n",
    "                 '<strong style=\"font-size:18px;color:red;\">{:.2f}%</strong>'.\n",
    "                 format(yes[1] / yes.values.sum() * 100)))\n",
    "\n",
    "display(Markdown(\"- On the other hand users who didn't adopt tech support have a churn rate of \"\n",
    "                '<strong style=\"font-size:18px;color:red;\">{:.2f}%</strong>'.format(no[1] / no.values.sum() * 100)))"
   ]
  },
  {
   "cell_type": "markdown",
   "metadata": {},
   "source": [
    "### Do monthly charges affect churn rate?"
   ]
  },
  {
   "cell_type": "markdown",
   "metadata": {},
   "source": [
    "#### a. In which the range the monthly charges are maximum?"
   ]
  },
  {
   "cell_type": "code",
   "execution_count": 15,
   "metadata": {},
   "outputs": [
    {
     "data": {
      "image/png": "[encoded data removed]",
      "text/plain": [
       "<Figure size 504x360 with 1 Axes>"
      ]
     },
     "metadata": {},
     "output_type": "display_data"
    }
   ],
   "source": [
    "plt.rcParams['figure.figsize'] = [7, 5]\n",
    "plt.style.use('fivethirtyeight')\n",
    "\n",
    "plt.hist(telco_user_churn.MonthlyCharges, color='#112f8f')\n",
    "plt.xlabel('Monthly Charges range')\n",
    "plt.ylabel('Frequency')\n",
    "plt.show()"
   ]
  },
  {
   "cell_type": "markdown",
   "metadata": {},
   "source": [
    "#### b. Churn rate of these ranges"
   ]
  },
  {
   "cell_type": "code",
   "execution_count": 16,
   "metadata": {},
   "outputs": [
    {
     "data": {
      "image/png": "[encoded data removed]",
      "text/plain": [
       "<Figure size 576x396 with 1 Axes>"
      ]
     },
     "metadata": {},
     "output_type": "display_data"
    }
   ],
   "source": [
    "plt.rcParams['figure.figsize'] = [5, 5]\n",
    "plt.style.use('seaborn')\n",
    "\n",
    "x_ticks = []\n",
    "values = []\n",
    "\n",
    "for charge in range(0, 120, 20):\n",
    "    churn = telco_user_churn.loc[(telco_user_churn.MonthlyCharges >= charge) &\n",
    "                         (telco_user_churn.MonthlyCharges < charge+20), \n",
    "                         'Churn'].value_counts()\n",
    "    x_ticks.append(str(charge + 20))\n",
    "    values.append(churn[1] / churn.values.sum() * 100)\n",
    "\n",
    "plt.plot(x_ticks, values, color='#d3660c', marker='X', alpha=0.8, linewidth=2)\n",
    "plt.xlabel('Monthly Charges range')\n",
    "plt.ylabel('Churn rate in %')\n",
    "\n",
    "plt.show()"
   ]
  }
 ],
 "metadata": {
  "kernelspec": {
   "display_name": "Python 3",
   "language": "python",
   "name": "python3"
  },
  "language_info": {
   "codemirror_mode": {
    "name": "ipython",
    "version": 3
   },
   "file_extension": ".py",
   "mimetype": "text/x-python",
   "name": "python",
   "nbconvert_exporter": "python",
   "pygments_lexer": "ipython3",
   "version": "3.6.7"
  }
 },
 "nbformat": 4,
 "nbformat_minor": 2
}
