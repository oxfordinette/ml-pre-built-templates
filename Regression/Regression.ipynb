{
 "cells": [
  {
   "cell_type": "markdown",
   "metadata": {},
   "source": [
    "### 1. Introduction\n",
    "\n",
    "- In this notebook we are going to deal with a supervised learning problem called regression.\n",
    "- Regression is classical problem of Machine Learning task which considers the target variable to be continuous or real-valued.\n",
    "\n",
    "The collected data is from stock market and we are going to use linear regression on it.\n",
    "\n",
    "\n",
    "#### What is Linear Regression?"
   ]
  },
  {
   "cell_type": "markdown",
   "metadata": {},
   "source": [
    "### 2. Importing dataset"
   ]
  },
  {
   "cell_type": "markdown",
   "metadata": {},
   "source": [
    "#### Looking for the dataset directory"
   ]
  },
  {
   "cell_type": "code",
   "execution_count": 1,
   "metadata": {},
   "outputs": [
    {
     "data": {
      "text/plain": [
       "['data', 'Regression.ipynb']"
      ]
     },
     "execution_count": 1,
     "metadata": {},
     "output_type": "execute_result"
    }
   ],
   "source": [
    "from glob import glob\n",
    "files = glob('*')\n",
    "\n",
    "files"
   ]
  },
  {
   "cell_type": "markdown",
   "metadata": {},
   "source": [
    "The dataset is residing in **data** directory.\n",
    "\n",
    "#### Getting file name"
   ]
  },
  {
   "cell_type": "code",
   "execution_count": 2,
   "metadata": {},
   "outputs": [
    {
     "data": {
      "text/plain": [
       "['data/stocks.csv']"
      ]
     },
     "execution_count": 2,
     "metadata": {},
     "output_type": "execute_result"
    }
   ],
   "source": [
    "dataset = glob('data/*')\n",
    "\n",
    "dataset"
   ]
  },
  {
   "cell_type": "markdown",
   "metadata": {},
   "source": [
    "#### Loading data into DataFrame using pandas."
   ]
  },
  {
   "cell_type": "code",
   "execution_count": 3,
   "metadata": {},
   "outputs": [],
   "source": [
    "import pandas as pd\n",
    "\n",
    "stocks = pd.read_csv('data/stocks.csv')"
   ]
  },
  {
   "cell_type": "markdown",
   "metadata": {},
   "source": [
    "#### Inspecting first 5 rows of dataset"
   ]
  },
  {
   "cell_type": "code",
   "execution_count": 4,
   "metadata": {},
   "outputs": [
    {
     "data": {
      "text/html": [
       "<div>\n",
       "<style scoped>\n",
       "    .dataframe tbody tr th:only-of-type {\n",
       "        vertical-align: middle;\n",
       "    }\n",
       "\n",
       "    .dataframe tbody tr th {\n",
       "        vertical-align: top;\n",
       "    }\n",
       "\n",
       "    .dataframe thead th {\n",
       "        text-align: right;\n",
       "    }\n",
       "</style>\n",
       "<table border=\"1\" class=\"dataframe\">\n",
       "  <thead>\n",
       "    <tr style=\"text-align: right;\">\n",
       "      <th></th>\n",
       "      <th>close</th>\n",
       "      <th>date</th>\n",
       "      <th>high</th>\n",
       "      <th>id</th>\n",
       "      <th>low</th>\n",
       "      <th>open</th>\n",
       "      <th>ticker</th>\n",
       "      <th>volume</th>\n",
       "    </tr>\n",
       "  </thead>\n",
       "  <tbody>\n",
       "    <tr>\n",
       "      <th>0</th>\n",
       "      <td>1.13401</td>\n",
       "      <td>2018-12-05 04:24:00</td>\n",
       "      <td>1.13403</td>\n",
       "      <td>19703898</td>\n",
       "      <td>1.1338</td>\n",
       "      <td>1.13400</td>\n",
       "      <td>EURUSD</td>\n",
       "      <td>100</td>\n",
       "    </tr>\n",
       "    <tr>\n",
       "      <th>1</th>\n",
       "      <td>1.13385</td>\n",
       "      <td>2018-12-05 04:25:00</td>\n",
       "      <td>1.13400</td>\n",
       "      <td>19703934</td>\n",
       "      <td>1.1338</td>\n",
       "      <td>1.13399</td>\n",
       "      <td>EURUSD</td>\n",
       "      <td>118</td>\n",
       "    </tr>\n",
       "    <tr>\n",
       "      <th>2</th>\n",
       "      <td>1.13384</td>\n",
       "      <td>2018-12-05 04:26:00</td>\n",
       "      <td>1.13394</td>\n",
       "      <td>19703958</td>\n",
       "      <td>1.1337</td>\n",
       "      <td>1.13388</td>\n",
       "      <td>EURUSD</td>\n",
       "      <td>63</td>\n",
       "    </tr>\n",
       "    <tr>\n",
       "      <th>3</th>\n",
       "      <td>1.13383</td>\n",
       "      <td>2018-12-05 04:27:00</td>\n",
       "      <td>1.13394</td>\n",
       "      <td>19703987</td>\n",
       "      <td>1.1337</td>\n",
       "      <td>1.13383</td>\n",
       "      <td>EURUSD</td>\n",
       "      <td>51</td>\n",
       "    </tr>\n",
       "    <tr>\n",
       "      <th>4</th>\n",
       "      <td>1.13370</td>\n",
       "      <td>2018-12-05 04:28:00</td>\n",
       "      <td>1.13390</td>\n",
       "      <td>19704015</td>\n",
       "      <td>1.1336</td>\n",
       "      <td>1.13390</td>\n",
       "      <td>EURUSD</td>\n",
       "      <td>32</td>\n",
       "    </tr>\n",
       "  </tbody>\n",
       "</table>\n",
       "</div>"
      ],
      "text/plain": [
       "     close                 date     high        id     low     open  ticker  \\\n",
       "0  1.13401  2018-12-05 04:24:00  1.13403  19703898  1.1338  1.13400  EURUSD   \n",
       "1  1.13385  2018-12-05 04:25:00  1.13400  19703934  1.1338  1.13399  EURUSD   \n",
       "2  1.13384  2018-12-05 04:26:00  1.13394  19703958  1.1337  1.13388  EURUSD   \n",
       "3  1.13383  2018-12-05 04:27:00  1.13394  19703987  1.1337  1.13383  EURUSD   \n",
       "4  1.13370  2018-12-05 04:28:00  1.13390  19704015  1.1336  1.13390  EURUSD   \n",
       "\n",
       "   volume  \n",
       "0     100  \n",
       "1     118  \n",
       "2      63  \n",
       "3      51  \n",
       "4      32  "
      ]
     },
     "execution_count": 4,
     "metadata": {},
     "output_type": "execute_result"
    }
   ],
   "source": [
    "stocks.head()"
   ]
  },
  {
   "cell_type": "markdown",
   "metadata": {},
   "source": [
    "**close** is the target variable here."
   ]
  },
  {
   "cell_type": "markdown",
   "metadata": {},
   "source": [
    "#### Number of rows and columns in our dataset"
   ]
  },
  {
   "cell_type": "code",
   "execution_count": 5,
   "metadata": {},
   "outputs": [
    {
     "data": {
      "text/plain": [
       "(1440, 8)"
      ]
     },
     "execution_count": 5,
     "metadata": {},
     "output_type": "execute_result"
    }
   ],
   "source": [
    "stocks.shape"
   ]
  },
  {
   "cell_type": "markdown",
   "metadata": {},
   "source": [
    "**Rows= 1440, Columns= 8**"
   ]
  },
  {
   "cell_type": "markdown",
   "metadata": {},
   "source": [
    "### 3. Exploratory Data Analysis (EDA)"
   ]
  },
  {
   "cell_type": "markdown",
   "metadata": {},
   "source": [
    "**Inspecting the columns datatype and how many of them have null values.**"
   ]
  },
  {
   "cell_type": "code",
   "execution_count": 6,
   "metadata": {},
   "outputs": [
    {
     "name": "stdout",
     "output_type": "stream",
     "text": [
      "<class 'pandas.core.frame.DataFrame'>\n",
      "RangeIndex: 1440 entries, 0 to 1439\n",
      "Data columns (total 8 columns):\n",
      "close     1440 non-null float64\n",
      "date      1440 non-null object\n",
      "high      1440 non-null float64\n",
      "id        1440 non-null int64\n",
      "low       1440 non-null float64\n",
      "open      1440 non-null float64\n",
      "ticker    1440 non-null object\n",
      "volume    1440 non-null int64\n",
      "dtypes: float64(4), int64(2), object(2)\n",
      "memory usage: 90.1+ KB\n"
     ]
    }
   ],
   "source": [
    "stocks.info()"
   ]
  },
  {
   "cell_type": "markdown",
   "metadata": {},
   "source": [
    "#### Observations:\n",
    "\n",
    "- None of the columns have null values, all the columns have entries equal to number of rows\n",
    "- But there is a problem with the datatype of **date** column. It is of type **object** here but it should be of **datetime** type."
   ]
  },
  {
   "cell_type": "code",
   "execution_count": 7,
   "metadata": {},
   "outputs": [],
   "source": [
    "from matplotlib import pyplot as plt\n",
    "\n",
    "# Changing theme of plot\n",
    "plt.style.use('ggplot')"
   ]
  },
  {
   "cell_type": "code",
   "execution_count": 8,
   "metadata": {},
   "outputs": [
    {
     "data": {
      "image/png": "[encoded data removed]",
      "text/plain": [
       "<Figure size 432x576 with 2 Axes>"
      ]
     },
     "metadata": {
      "needs_background": "light"
     },
     "output_type": "display_data"
    }
   ],
   "source": [
    "# Customising figure size\n",
    "plt.rcParams['figure.figsize'] = [6, 8]\n",
    "\n",
    "def plot_hist(feature1, feature2, transparency1, transparency2):\n",
    "    plt.hist(stocks[feature1], label=feature1, alpha=transparency1)\n",
    "    plt.hist(stocks[feature2], label=feature2, alpha=transparency2)\n",
    "    plt.ylabel('stocks')\n",
    "    plt.legend()\n",
    "\n",
    "plt.subplot(2, 1, 1)\n",
    "plot_hist('open', 'close', 0.5, 0.5)\n",
    "\n",
    "plt.subplot(2, 1, 2)\n",
    "plot_hist('low', 'high', 0.5, 0.5)\n",
    "plt.show()"
   ]
  },
  {
   "cell_type": "code",
   "execution_count": 9,
   "metadata": {},
   "outputs": [
    {
     "data": {
      "image/png": "[encoded data removed]",
      "text/plain": [
       "<Figure size 432x432 with 1 Axes>"
      ]
     },
     "metadata": {
      "needs_background": "light"
     },
     "output_type": "display_data"
    }
   ],
   "source": [
    "# Customising figure size\n",
    "plt.rcParams['figure.figsize'] = [6, 6]\n",
    "\n",
    "plt.hist(stocks['volume'], alpha=0.6)\n",
    "plt.xlabel('volume')\n",
    "plt.ylabel('stocks')\n",
    "plt.show()"
   ]
  }
 ],
 "metadata": {
  "kernelspec": {
   "display_name": "Python 3",
   "language": "python",
   "name": "python3"
  },
  "language_info": {
   "codemirror_mode": {
    "name": "ipython",
    "version": 3
   },
   "file_extension": ".py",
   "mimetype": "text/x-python",
   "name": "python",
   "nbconvert_exporter": "python",
   "pygments_lexer": "ipython3",
   "version": "3.7.3"
  }
 },
 "nbformat": 4,
 "nbformat_minor": 2
}
