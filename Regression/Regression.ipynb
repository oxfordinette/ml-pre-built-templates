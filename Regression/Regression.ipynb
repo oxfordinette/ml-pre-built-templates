{
 "cells": [
  {
   "cell_type": "markdown",
   "metadata": {},
   "source": [
    "### Introduction\n",
    "\n",
    "- In this notebook we are going to deal with a supervised learning problem called regression.\n",
    "- **Regression** is a classical problem of Machine Learning which considers the target variable to be *continuous* or *real-valued*.\n",
    "\n",
    "The collected data is from stock market and we are going to use linear regression on it.\n",
    "\n",
    "### Steps Involved:\n",
    "\n",
    "1. Importing dataset\n",
    "2. Exploratory Data Analysis (EDA) and Preprocessing\n",
    "3. Feature Engineering\n",
    "4. Model Building\n",
    "5. Model Training\n",
    "6. Model Testing\n",
    "7. Inference\n",
    "8. Optimization"
   ]
  },
  {
   "cell_type": "markdown",
   "metadata": {},
   "source": [
    "1. **Importing dataset-** In this notebook we are going to use [pandas](https://pandas.pydata.org/) for loading our dataset. As our dataset is small, pandas works best in our case. For data sized upto Gigs we can use [datatable](https://github.com/h2oai/datatable).\n",
    "\n",
    "2. **EDA and Preprocessing-** EDA, a crucial step that lets you get friendly with the data. It involves inspection of data through methods of dataframe object, visualization, statistics and hypothesis generation. EDA tells which preprocessing technique to use.\n",
    "    \n",
    "    Preprocessing can be defined as a method which makes our data suitable to fit on a machine learning model. Strategies that can be used in preprocessing of data is removing the NaN (missing) values, filling the NaN or impute those values using mean, median or mode, data type of the columns,dropping the unnecessary columns etc.\n",
    "        \n",
    "3. **Feature Engineering-** Feature Engineering involves feature selection or feature generation.\n",
    "    - **Feature selection-** It involves selection of relevant features from the available set of features. The selection can be the entire set of features or a subset of it.\n",
    "    \n",
    "    - **Feature generation-** Construction or extraction of new features from the existing features. Useful when we have low set of features. The construction of feature is all mathematical and based on the domain expertise.\n",
    "\n",
    "4. **Model Building-** In this step the suitable machine learning model is used. The data is divided into train and test set.\n",
    "\n",
    "5. **Model Training-** Fitting the features into a machine learning model. The value of hyperparameters can use the default value or can be tuned in **Optimization** phase.\n",
    "\n",
    "6. **Model Testing-** After the model has learned the pattern of data points(features) it is the time to evaluate our model performance. The model is going to be evaluated on a different performance metrics. For a classification problem accuracy, precision, recall, etc. are the evaluation metrics and for a regression problem mean squared error, r^2-score, etc. are the evaluation metrics.\n",
    "\n",
    "7. **Inference-** We have evaluated our model, its time to generate inference from the saved model.\n",
    "\n",
    "8. **Optimization-** In this step we tune the hyperparameters or the learned model. The hyperparameters can be tuned by using GridSearch. The learned model can be tuned by using cross-validation technique.\n",
    "\n",
    "### What is Linear Regression?\n",
    "\n",
    "Linear Regression is a linear model that tries that makes prediction by simply computing the weight of features including a bias term.\n",
    "\n",
    "```y = b + w1*x1 + w2*x2 +....+ wn * xn```\n",
    "\n",
    "### Frameworks used:\n",
    "- pandas\n",
    "- matplotlib\n",
    "- scikit-learn"
   ]
  },
  {
   "cell_type": "markdown",
   "metadata": {},
   "source": [
    "### 1. Importing dataset"
   ]
  },
  {
   "cell_type": "markdown",
   "metadata": {},
   "source": [
    "#### Looking for the dataset directory"
   ]
  },
  {
   "cell_type": "code",
   "execution_count": 1,
   "metadata": {},
   "outputs": [
    {
     "data": {
      "text/plain": [
       "['standard_scale.pkl', 'stocks_regression.pkl', 'Regression.ipynb', 'data']"
      ]
     },
     "execution_count": 1,
     "metadata": {},
     "output_type": "execute_result"
    }
   ],
   "source": [
    "from glob import glob\n",
    "files = glob('*')\n",
    "\n",
    "files"
   ]
  },
  {
   "cell_type": "markdown",
   "metadata": {},
   "source": [
    "The dataset is residing in **data** directory.\n",
    "\n",
    "#### Getting file name"
   ]
  },
  {
   "cell_type": "code",
   "execution_count": 2,
   "metadata": {},
   "outputs": [
    {
     "data": {
      "text/plain": [
       "['data/stocks_test.csv', 'data/stocks.csv']"
      ]
     },
     "execution_count": 2,
     "metadata": {},
     "output_type": "execute_result"
    }
   ],
   "source": [
    "dataset = glob('data/*')\n",
    "\n",
    "dataset"
   ]
  },
  {
   "cell_type": "markdown",
   "metadata": {},
   "source": [
    "#### Loading data into DataFrame using pandas."
   ]
  },
  {
   "cell_type": "code",
   "execution_count": 3,
   "metadata": {},
   "outputs": [],
   "source": [
    "import pandas as pd\n",
    "\n",
    "stocks = pd.read_csv('data/stocks.csv')"
   ]
  },
  {
   "cell_type": "markdown",
   "metadata": {},
   "source": [
    "#### Inspecting first 5 rows of dataset"
   ]
  },
  {
   "cell_type": "code",
   "execution_count": 4,
   "metadata": {},
   "outputs": [
    {
     "data": {
      "text/html": [
       "<div>\n",
       "<style scoped>\n",
       "    .dataframe tbody tr th:only-of-type {\n",
       "        vertical-align: middle;\n",
       "    }\n",
       "\n",
       "    .dataframe tbody tr th {\n",
       "        vertical-align: top;\n",
       "    }\n",
       "\n",
       "    .dataframe thead th {\n",
       "        text-align: right;\n",
       "    }\n",
       "</style>\n",
       "<table border=\"1\" class=\"dataframe\">\n",
       "  <thead>\n",
       "    <tr style=\"text-align: right;\">\n",
       "      <th></th>\n",
       "      <th>close</th>\n",
       "      <th>date</th>\n",
       "      <th>high</th>\n",
       "      <th>id</th>\n",
       "      <th>low</th>\n",
       "      <th>open</th>\n",
       "      <th>ticker</th>\n",
       "      <th>volume</th>\n",
       "    </tr>\n",
       "  </thead>\n",
       "  <tbody>\n",
       "    <tr>\n",
       "      <th>0</th>\n",
       "      <td>1.13401</td>\n",
       "      <td>2018-12-05 04:24:00</td>\n",
       "      <td>1.13403</td>\n",
       "      <td>19703898</td>\n",
       "      <td>1.1338</td>\n",
       "      <td>1.13400</td>\n",
       "      <td>EURUSD</td>\n",
       "      <td>100</td>\n",
       "    </tr>\n",
       "    <tr>\n",
       "      <th>1</th>\n",
       "      <td>1.13385</td>\n",
       "      <td>2018-12-05 04:25:00</td>\n",
       "      <td>1.13400</td>\n",
       "      <td>19703934</td>\n",
       "      <td>1.1338</td>\n",
       "      <td>1.13399</td>\n",
       "      <td>EURUSD</td>\n",
       "      <td>118</td>\n",
       "    </tr>\n",
       "    <tr>\n",
       "      <th>2</th>\n",
       "      <td>1.13384</td>\n",
       "      <td>2018-12-05 04:26:00</td>\n",
       "      <td>1.13394</td>\n",
       "      <td>19703958</td>\n",
       "      <td>1.1337</td>\n",
       "      <td>1.13388</td>\n",
       "      <td>EURUSD</td>\n",
       "      <td>63</td>\n",
       "    </tr>\n",
       "    <tr>\n",
       "      <th>3</th>\n",
       "      <td>1.13383</td>\n",
       "      <td>2018-12-05 04:27:00</td>\n",
       "      <td>1.13394</td>\n",
       "      <td>19703987</td>\n",
       "      <td>1.1337</td>\n",
       "      <td>1.13383</td>\n",
       "      <td>EURUSD</td>\n",
       "      <td>51</td>\n",
       "    </tr>\n",
       "    <tr>\n",
       "      <th>4</th>\n",
       "      <td>1.13370</td>\n",
       "      <td>2018-12-05 04:28:00</td>\n",
       "      <td>1.13390</td>\n",
       "      <td>19704015</td>\n",
       "      <td>1.1336</td>\n",
       "      <td>1.13390</td>\n",
       "      <td>EURUSD</td>\n",
       "      <td>32</td>\n",
       "    </tr>\n",
       "  </tbody>\n",
       "</table>\n",
       "</div>"
      ],
      "text/plain": [
       "     close                 date     high        id     low     open  ticker  \\\n",
       "0  1.13401  2018-12-05 04:24:00  1.13403  19703898  1.1338  1.13400  EURUSD   \n",
       "1  1.13385  2018-12-05 04:25:00  1.13400  19703934  1.1338  1.13399  EURUSD   \n",
       "2  1.13384  2018-12-05 04:26:00  1.13394  19703958  1.1337  1.13388  EURUSD   \n",
       "3  1.13383  2018-12-05 04:27:00  1.13394  19703987  1.1337  1.13383  EURUSD   \n",
       "4  1.13370  2018-12-05 04:28:00  1.13390  19704015  1.1336  1.13390  EURUSD   \n",
       "\n",
       "   volume  \n",
       "0     100  \n",
       "1     118  \n",
       "2      63  \n",
       "3      51  \n",
       "4      32  "
      ]
     },
     "execution_count": 4,
     "metadata": {},
     "output_type": "execute_result"
    }
   ],
   "source": [
    "stocks.head()"
   ]
  },
  {
   "cell_type": "markdown",
   "metadata": {},
   "source": [
    "**close** is the target variable here."
   ]
  },
  {
   "cell_type": "markdown",
   "metadata": {},
   "source": [
    "#### Number of rows and columns in our dataset"
   ]
  },
  {
   "cell_type": "code",
   "execution_count": 5,
   "metadata": {},
   "outputs": [
    {
     "data": {
      "text/plain": [
       "(1440, 8)"
      ]
     },
     "execution_count": 5,
     "metadata": {},
     "output_type": "execute_result"
    }
   ],
   "source": [
    "stocks.shape"
   ]
  },
  {
   "cell_type": "markdown",
   "metadata": {},
   "source": [
    "**Rows= 1440, Columns= 8**"
   ]
  },
  {
   "cell_type": "markdown",
   "metadata": {},
   "source": [
    "### 2. Exploratory Data Analysis (EDA) and Preprocessing"
   ]
  },
  {
   "cell_type": "markdown",
   "metadata": {},
   "source": [
    "**Inspecting the columns datatype and how many of them have null values.**"
   ]
  },
  {
   "cell_type": "code",
   "execution_count": 6,
   "metadata": {},
   "outputs": [
    {
     "name": "stdout",
     "output_type": "stream",
     "text": [
      "<class 'pandas.core.frame.DataFrame'>\n",
      "RangeIndex: 1440 entries, 0 to 1439\n",
      "Data columns (total 8 columns):\n",
      "close     1440 non-null float64\n",
      "date      1440 non-null object\n",
      "high      1440 non-null float64\n",
      "id        1440 non-null int64\n",
      "low       1440 non-null float64\n",
      "open      1440 non-null float64\n",
      "ticker    1440 non-null object\n",
      "volume    1440 non-null int64\n",
      "dtypes: float64(4), int64(2), object(2)\n",
      "memory usage: 90.1+ KB\n"
     ]
    }
   ],
   "source": [
    "stocks.info()"
   ]
  },
  {
   "cell_type": "markdown",
   "metadata": {},
   "source": [
    "#### Observations:\n",
    "\n",
    "- None of the columns have null values, all the columns have entries equal to number of rows\n",
    "- But there is a problem with the datatype of **date** column. It is of type **object** here but it should be of **datetime** type."
   ]
  },
  {
   "cell_type": "code",
   "execution_count": 7,
   "metadata": {},
   "outputs": [],
   "source": [
    "# Treating the data type of date column\n",
    "stocks['date'] = pd.to_datetime(stocks['date'])"
   ]
  },
  {
   "cell_type": "markdown",
   "metadata": {},
   "source": [
    "#### Dropping the features that are not required\n",
    "- Columns that contain unique values or a single value are not effective for machine learning models."
   ]
  },
  {
   "cell_type": "code",
   "execution_count": 8,
   "metadata": {},
   "outputs": [
    {
     "name": "stdout",
     "output_type": "stream",
     "text": [
      "Feature   Unique Values\n",
      "close\t\t308\n",
      "date\t\t1440\n",
      "high\t\t294\n",
      "id\t\t1440\n",
      "low\t\t115\n",
      "open\t\t316\n",
      "ticker\t\t1\n",
      "volume\t\t227\n"
     ]
    }
   ],
   "source": [
    "print('Feature   Unique Values')\n",
    "for col in stocks.columns:\n",
    "    print(col, len(stocks[col].unique()), sep='\\t\\t')"
   ]
  },
  {
   "cell_type": "markdown",
   "metadata": {},
   "source": [
    "Columns **id** and **ticker** are not effective for our modelling task."
   ]
  },
  {
   "cell_type": "code",
   "execution_count": 9,
   "metadata": {},
   "outputs": [],
   "source": [
    "stocks = stocks.drop(['id', 'ticker'], axis=1)"
   ]
  },
  {
   "cell_type": "markdown",
   "metadata": {},
   "source": [
    "#### Summary statistics"
   ]
  },
  {
   "cell_type": "code",
   "execution_count": 10,
   "metadata": {},
   "outputs": [
    {
     "data": {
      "text/html": [
       "<div>\n",
       "<style scoped>\n",
       "    .dataframe tbody tr th:only-of-type {\n",
       "        vertical-align: middle;\n",
       "    }\n",
       "\n",
       "    .dataframe tbody tr th {\n",
       "        vertical-align: top;\n",
       "    }\n",
       "\n",
       "    .dataframe thead th {\n",
       "        text-align: right;\n",
       "    }\n",
       "</style>\n",
       "<table border=\"1\" class=\"dataframe\">\n",
       "  <thead>\n",
       "    <tr style=\"text-align: right;\">\n",
       "      <th></th>\n",
       "      <th>close</th>\n",
       "      <th>high</th>\n",
       "      <th>low</th>\n",
       "      <th>open</th>\n",
       "      <th>volume</th>\n",
       "    </tr>\n",
       "  </thead>\n",
       "  <tbody>\n",
       "    <tr>\n",
       "      <th>count</th>\n",
       "      <td>1440.000000</td>\n",
       "      <td>1440.000000</td>\n",
       "      <td>1440.000000</td>\n",
       "      <td>1440.000000</td>\n",
       "      <td>1440.000000</td>\n",
       "    </tr>\n",
       "    <tr>\n",
       "      <th>mean</th>\n",
       "      <td>1.134370</td>\n",
       "      <td>1.134497</td>\n",
       "      <td>1.134190</td>\n",
       "      <td>1.134379</td>\n",
       "      <td>92.802083</td>\n",
       "    </tr>\n",
       "    <tr>\n",
       "      <th>std</th>\n",
       "      <td>0.000766</td>\n",
       "      <td>0.000751</td>\n",
       "      <td>0.000778</td>\n",
       "      <td>0.000768</td>\n",
       "      <td>52.313500</td>\n",
       "    </tr>\n",
       "    <tr>\n",
       "      <th>min</th>\n",
       "      <td>1.131500</td>\n",
       "      <td>1.132380</td>\n",
       "      <td>1.131040</td>\n",
       "      <td>1.131940</td>\n",
       "      <td>4.000000</td>\n",
       "    </tr>\n",
       "    <tr>\n",
       "      <th>25%</th>\n",
       "      <td>1.134010</td>\n",
       "      <td>1.134110</td>\n",
       "      <td>1.133800</td>\n",
       "      <td>1.134030</td>\n",
       "      <td>57.000000</td>\n",
       "    </tr>\n",
       "    <tr>\n",
       "      <th>50%</th>\n",
       "      <td>1.134500</td>\n",
       "      <td>1.134630</td>\n",
       "      <td>1.134400</td>\n",
       "      <td>1.134520</td>\n",
       "      <td>82.000000</td>\n",
       "    </tr>\n",
       "    <tr>\n",
       "      <th>75%</th>\n",
       "      <td>1.134870</td>\n",
       "      <td>1.135000</td>\n",
       "      <td>1.134700</td>\n",
       "      <td>1.134890</td>\n",
       "      <td>119.000000</td>\n",
       "    </tr>\n",
       "    <tr>\n",
       "      <th>max</th>\n",
       "      <td>1.136020</td>\n",
       "      <td>1.136130</td>\n",
       "      <td>1.135700</td>\n",
       "      <td>1.135960</td>\n",
       "      <td>411.000000</td>\n",
       "    </tr>\n",
       "  </tbody>\n",
       "</table>\n",
       "</div>"
      ],
      "text/plain": [
       "             close         high          low         open       volume\n",
       "count  1440.000000  1440.000000  1440.000000  1440.000000  1440.000000\n",
       "mean      1.134370     1.134497     1.134190     1.134379    92.802083\n",
       "std       0.000766     0.000751     0.000778     0.000768    52.313500\n",
       "min       1.131500     1.132380     1.131040     1.131940     4.000000\n",
       "25%       1.134010     1.134110     1.133800     1.134030    57.000000\n",
       "50%       1.134500     1.134630     1.134400     1.134520    82.000000\n",
       "75%       1.134870     1.135000     1.134700     1.134890   119.000000\n",
       "max       1.136020     1.136130     1.135700     1.135960   411.000000"
      ]
     },
     "execution_count": 10,
     "metadata": {},
     "output_type": "execute_result"
    }
   ],
   "source": [
    "stocks.describe()"
   ]
  },
  {
   "cell_type": "markdown",
   "metadata": {},
   "source": [
    "As we can observe from the above table that **close, high, low** and **open** has mean and median nearly equal."
   ]
  },
  {
   "cell_type": "code",
   "execution_count": 11,
   "metadata": {},
   "outputs": [],
   "source": [
    "from matplotlib import pyplot as plt\n",
    "\n",
    "# Changing theme of plot\n",
    "plt.style.use('ggplot')"
   ]
  },
  {
   "cell_type": "markdown",
   "metadata": {},
   "source": [
    "### Analyzing the related values"
   ]
  },
  {
   "cell_type": "code",
   "execution_count": 12,
   "metadata": {},
   "outputs": [
    {
     "data": {
      "image/png": "[encoded data removed]",
      "text/plain": [
       "<Figure size 432x720 with 2 Axes>"
      ]
     },
     "metadata": {
      "needs_background": "light"
     },
     "output_type": "display_data"
    }
   ],
   "source": [
    "# Customising figure size\n",
    "plt.rcParams['figure.figsize'] = [6, 10]\n",
    "\n",
    "def plot_hist(feature1, feature2, transparency1, transparency2):\n",
    "    plt.hist(stocks[feature1], label=feature1, alpha=transparency1)\n",
    "    plt.hist(stocks[feature2], label=feature2, alpha=transparency2)\n",
    "    plt.ylabel('stocks')\n",
    "    plt.legend()\n",
    "\n",
    "plt.subplot(2, 1, 1)\n",
    "plot_hist('open', 'close', 0.5, 0.5)\n",
    "\n",
    "plt.subplot(2, 1, 2)\n",
    "plot_hist('low', 'high', 0.5, 0.5)\n",
    "plt.show()"
   ]
  },
  {
   "cell_type": "markdown",
   "metadata": {},
   "source": [
    "### Analyzing the volume of stocks traded"
   ]
  },
  {
   "cell_type": "code",
   "execution_count": 13,
   "metadata": {},
   "outputs": [
    {
     "data": {
      "image/png": "[encoded data removed]",
      "text/plain": [
       "<Figure size 432x360 with 1 Axes>"
      ]
     },
     "metadata": {
      "needs_background": "light"
     },
     "output_type": "display_data"
    }
   ],
   "source": [
    "# Customising figure size\n",
    "plt.rcParams['figure.figsize'] = [6, 5]\n",
    "\n",
    "plt.hist(stocks['volume'], color='#11ae22', alpha=0.7)\n",
    "plt.xlabel('volume')\n",
    "plt.ylabel('stocks')\n",
    "plt.show()"
   ]
  },
  {
   "cell_type": "markdown",
   "metadata": {},
   "source": [
    "Stocks are traded more in range 0-200."
   ]
  },
  {
   "cell_type": "markdown",
   "metadata": {},
   "source": [
    "### 3. Feature Engineering"
   ]
  },
  {
   "cell_type": "markdown",
   "metadata": {},
   "source": [
    "#### Converting date to seconds because Linear Regression doesn't work on a time-series data."
   ]
  },
  {
   "cell_type": "code",
   "execution_count": 14,
   "metadata": {},
   "outputs": [],
   "source": [
    "from datetime import datetime\n",
    "\n",
    "stocks['date_to_seconds'] = stocks['date'].apply(lambda x: datetime.timestamp(x))\n",
    "stocks = stocks.drop('date', axis=1)"
   ]
  },
  {
   "cell_type": "code",
   "execution_count": 15,
   "metadata": {},
   "outputs": [
    {
     "data": {
      "text/html": [
       "<div>\n",
       "<style scoped>\n",
       "    .dataframe tbody tr th:only-of-type {\n",
       "        vertical-align: middle;\n",
       "    }\n",
       "\n",
       "    .dataframe tbody tr th {\n",
       "        vertical-align: top;\n",
       "    }\n",
       "\n",
       "    .dataframe thead th {\n",
       "        text-align: right;\n",
       "    }\n",
       "</style>\n",
       "<table border=\"1\" class=\"dataframe\">\n",
       "  <thead>\n",
       "    <tr style=\"text-align: right;\">\n",
       "      <th></th>\n",
       "      <th>close</th>\n",
       "      <th>high</th>\n",
       "      <th>low</th>\n",
       "      <th>open</th>\n",
       "      <th>volume</th>\n",
       "      <th>date_to_seconds</th>\n",
       "    </tr>\n",
       "  </thead>\n",
       "  <tbody>\n",
       "    <tr>\n",
       "      <th>0</th>\n",
       "      <td>1.13401</td>\n",
       "      <td>1.13403</td>\n",
       "      <td>1.1338</td>\n",
       "      <td>1.13400</td>\n",
       "      <td>100</td>\n",
       "      <td>1.543964e+09</td>\n",
       "    </tr>\n",
       "    <tr>\n",
       "      <th>1</th>\n",
       "      <td>1.13385</td>\n",
       "      <td>1.13400</td>\n",
       "      <td>1.1338</td>\n",
       "      <td>1.13399</td>\n",
       "      <td>118</td>\n",
       "      <td>1.543964e+09</td>\n",
       "    </tr>\n",
       "    <tr>\n",
       "      <th>2</th>\n",
       "      <td>1.13384</td>\n",
       "      <td>1.13394</td>\n",
       "      <td>1.1337</td>\n",
       "      <td>1.13388</td>\n",
       "      <td>63</td>\n",
       "      <td>1.543964e+09</td>\n",
       "    </tr>\n",
       "    <tr>\n",
       "      <th>3</th>\n",
       "      <td>1.13383</td>\n",
       "      <td>1.13394</td>\n",
       "      <td>1.1337</td>\n",
       "      <td>1.13383</td>\n",
       "      <td>51</td>\n",
       "      <td>1.543964e+09</td>\n",
       "    </tr>\n",
       "    <tr>\n",
       "      <th>4</th>\n",
       "      <td>1.13370</td>\n",
       "      <td>1.13390</td>\n",
       "      <td>1.1336</td>\n",
       "      <td>1.13390</td>\n",
       "      <td>32</td>\n",
       "      <td>1.543964e+09</td>\n",
       "    </tr>\n",
       "  </tbody>\n",
       "</table>\n",
       "</div>"
      ],
      "text/plain": [
       "     close     high     low     open  volume  date_to_seconds\n",
       "0  1.13401  1.13403  1.1338  1.13400     100     1.543964e+09\n",
       "1  1.13385  1.13400  1.1338  1.13399     118     1.543964e+09\n",
       "2  1.13384  1.13394  1.1337  1.13388      63     1.543964e+09\n",
       "3  1.13383  1.13394  1.1337  1.13383      51     1.543964e+09\n",
       "4  1.13370  1.13390  1.1336  1.13390      32     1.543964e+09"
      ]
     },
     "execution_count": 15,
     "metadata": {},
     "output_type": "execute_result"
    }
   ],
   "source": [
    "stocks.head()"
   ]
  },
  {
   "cell_type": "markdown",
   "metadata": {},
   "source": [
    "#### Splitting data into train and test set"
   ]
  },
  {
   "cell_type": "code",
   "execution_count": 16,
   "metadata": {},
   "outputs": [],
   "source": [
    "from sklearn.model_selection import train_test_split\n",
    "\n",
    "# Features\n",
    "X = stocks.iloc[:, 1:].values\n",
    "# Target\n",
    "y = stocks.iloc[:, 0].values\n",
    "\n",
    "X_train, X_test, y_train, y_test = train_test_split(X, y, test_size=0.2,\n",
    "                                                    random_state=5)"
   ]
  },
  {
   "cell_type": "markdown",
   "metadata": {},
   "source": [
    "#### Feature Scaling\n",
    "\n",
    "The **volume** and **date_to_seconds** have values which are not in the range of other features.\n",
    "\n",
    "We are going to use StandardScaler because it scales the set of features into a normal distribution."
   ]
  },
  {
   "cell_type": "code",
   "execution_count": 17,
   "metadata": {},
   "outputs": [],
   "source": [
    "import pickle\n",
    "from sklearn.preprocessing import StandardScaler\n",
    "\n",
    "sc = StandardScaler()\n",
    "# Scaling the feature\n",
    "X_train = sc.fit_transform(X_train)\n",
    "# Transforming the test features\n",
    "X_test = sc.transform(X_test)\n",
    "\n",
    "# Saving the learned scaler\n",
    "sc_pkl = open('standard_scale.pkl', 'wb')\n",
    "pickle.dump(sc, sc_pkl)\n",
    "sc_pkl.close()"
   ]
  },
  {
   "cell_type": "markdown",
   "metadata": {},
   "source": [
    "### 4. Model Building"
   ]
  },
  {
   "cell_type": "code",
   "execution_count": 18,
   "metadata": {},
   "outputs": [],
   "source": [
    "from sklearn.linear_model import LinearRegression\n",
    "\n",
    "# Model object\n",
    "lin_reg = LinearRegression()"
   ]
  },
  {
   "cell_type": "markdown",
   "metadata": {},
   "source": [
    "### 5. Model Training"
   ]
  },
  {
   "cell_type": "code",
   "execution_count": 19,
   "metadata": {},
   "outputs": [],
   "source": [
    "# Training the model\n",
    "lin_reg.fit(X_train, y_train);\n",
    "\n",
    "# Saving the trained model\n",
    "model_pkl = open('stocks_regression.pkl', 'wb')\n",
    "pickle.dump(lin_reg, model_pkl)\n",
    "model_pkl.close()"
   ]
  },
  {
   "cell_type": "markdown",
   "metadata": {},
   "source": [
    "### 6. Model Testing"
   ]
  },
  {
   "cell_type": "code",
   "execution_count": 20,
   "metadata": {},
   "outputs": [
    {
     "name": "stdout",
     "output_type": "stream",
     "text": [
      "Mean Absolute Error= 0.000073\n",
      "Mean Squared Error= 8.209671025415955e-09\n",
      "Variance Score= 0.9849\n"
     ]
    }
   ],
   "source": [
    "from sklearn.metrics import mean_absolute_error, mean_squared_error, r2_score\n",
    "\n",
    "y_pred = lin_reg.predict(X_test)\n",
    "\n",
    "mae = mean_absolute_error(y_test, y_pred)\n",
    "mse = mean_squared_error(y_test, y_pred)\n",
    "r2_score = r2_score(y_test, y_pred)\n",
    "\n",
    "print(\"Mean Absolute Error= {:6f}\".format(mae))\n",
    "print(\"Mean Squared Error= {}\".format(mse))\n",
    "print(\"Variance Score= {:.4f}\".format(r2_score))"
   ]
  },
  {
   "cell_type": "markdown",
   "metadata": {},
   "source": [
    "### 7. Inference"
   ]
  },
  {
   "cell_type": "code",
   "execution_count": 21,
   "metadata": {},
   "outputs": [
    {
     "data": {
      "text/html": [
       "<div>\n",
       "<style scoped>\n",
       "    .dataframe tbody tr th:only-of-type {\n",
       "        vertical-align: middle;\n",
       "    }\n",
       "\n",
       "    .dataframe tbody tr th {\n",
       "        vertical-align: top;\n",
       "    }\n",
       "\n",
       "    .dataframe thead th {\n",
       "        text-align: right;\n",
       "    }\n",
       "</style>\n",
       "<table border=\"1\" class=\"dataframe\">\n",
       "  <thead>\n",
       "    <tr style=\"text-align: right;\">\n",
       "      <th></th>\n",
       "      <th>close</th>\n",
       "      <th>date</th>\n",
       "      <th>high</th>\n",
       "      <th>id</th>\n",
       "      <th>low</th>\n",
       "      <th>open</th>\n",
       "      <th>ticker</th>\n",
       "      <th>volume</th>\n",
       "    </tr>\n",
       "  </thead>\n",
       "  <tbody>\n",
       "    <tr>\n",
       "      <th>0</th>\n",
       "      <td>1.13316</td>\n",
       "      <td>2018-12-06 02:48:00</td>\n",
       "      <td>1.13320</td>\n",
       "      <td>19740046</td>\n",
       "      <td>1.1328</td>\n",
       "      <td>1.13304</td>\n",
       "      <td>EURUSD</td>\n",
       "      <td>145</td>\n",
       "    </tr>\n",
       "    <tr>\n",
       "      <th>1</th>\n",
       "      <td>1.13315</td>\n",
       "      <td>2018-12-06 02:49:00</td>\n",
       "      <td>1.13333</td>\n",
       "      <td>19740083</td>\n",
       "      <td>1.1331</td>\n",
       "      <td>1.13310</td>\n",
       "      <td>EURUSD</td>\n",
       "      <td>168</td>\n",
       "    </tr>\n",
       "    <tr>\n",
       "      <th>2</th>\n",
       "      <td>1.13341</td>\n",
       "      <td>2018-12-06 02:50:00</td>\n",
       "      <td>1.13341</td>\n",
       "      <td>19740100</td>\n",
       "      <td>1.1331</td>\n",
       "      <td>1.13316</td>\n",
       "      <td>EURUSD</td>\n",
       "      <td>160</td>\n",
       "    </tr>\n",
       "    <tr>\n",
       "      <th>3</th>\n",
       "      <td>1.13330</td>\n",
       "      <td>2018-12-06 02:51:00</td>\n",
       "      <td>1.13346</td>\n",
       "      <td>19740136</td>\n",
       "      <td>1.1332</td>\n",
       "      <td>1.13341</td>\n",
       "      <td>EURUSD</td>\n",
       "      <td>107</td>\n",
       "    </tr>\n",
       "    <tr>\n",
       "      <th>4</th>\n",
       "      <td>1.13334</td>\n",
       "      <td>2018-12-06 02:52:00</td>\n",
       "      <td>1.13342</td>\n",
       "      <td>19740154</td>\n",
       "      <td>1.1331</td>\n",
       "      <td>1.13334</td>\n",
       "      <td>EURUSD</td>\n",
       "      <td>136</td>\n",
       "    </tr>\n",
       "  </tbody>\n",
       "</table>\n",
       "</div>"
      ],
      "text/plain": [
       "     close                 date     high        id     low     open  ticker  \\\n",
       "0  1.13316  2018-12-06 02:48:00  1.13320  19740046  1.1328  1.13304  EURUSD   \n",
       "1  1.13315  2018-12-06 02:49:00  1.13333  19740083  1.1331  1.13310  EURUSD   \n",
       "2  1.13341  2018-12-06 02:50:00  1.13341  19740100  1.1331  1.13316  EURUSD   \n",
       "3  1.13330  2018-12-06 02:51:00  1.13346  19740136  1.1332  1.13341  EURUSD   \n",
       "4  1.13334  2018-12-06 02:52:00  1.13342  19740154  1.1331  1.13334  EURUSD   \n",
       "\n",
       "   volume  \n",
       "0     145  \n",
       "1     168  \n",
       "2     160  \n",
       "3     107  \n",
       "4     136  "
      ]
     },
     "execution_count": 21,
     "metadata": {},
     "output_type": "execute_result"
    }
   ],
   "source": [
    "stocks_test = pd.read_csv('data/stocks_test.csv')\n",
    "stocks_test.head()"
   ]
  },
  {
   "cell_type": "code",
   "execution_count": 22,
   "metadata": {},
   "outputs": [
    {
     "data": {
      "text/plain": [
       "(84, 8)"
      ]
     },
     "execution_count": 22,
     "metadata": {},
     "output_type": "execute_result"
    }
   ],
   "source": [
    "stocks_test.shape"
   ]
  },
  {
   "cell_type": "markdown",
   "metadata": {},
   "source": [
    "#### a. Preprocessing the data"
   ]
  },
  {
   "cell_type": "code",
   "execution_count": 23,
   "metadata": {},
   "outputs": [],
   "source": [
    "stocks_test = stocks_test.drop(['id', 'ticker'], axis=1)\n",
    "stocks_test['date'] = pd.to_datetime(stocks_test['date'])\n",
    "stocks_test['date_to_seconds'] = stocks_test['date'].apply(lambda x: datetime.timestamp(x))\n",
    "stocks_test = stocks_test.drop('date', axis=1)\n",
    "\n",
    "test_features = stocks_test.iloc[:, 1:].values\n",
    "target = stocks_test.iloc[:, 0].values"
   ]
  },
  {
   "cell_type": "markdown",
   "metadata": {},
   "source": [
    "#### b. Looking for the saved pickle files"
   ]
  },
  {
   "cell_type": "code",
   "execution_count": 24,
   "metadata": {},
   "outputs": [
    {
     "data": {
      "text/plain": [
       "['standard_scale.pkl', 'stocks_regression.pkl']"
      ]
     },
     "execution_count": 24,
     "metadata": {},
     "output_type": "execute_result"
    }
   ],
   "source": [
    "pkls = glob('*.pkl')\n",
    "\n",
    "pkls"
   ]
  },
  {
   "cell_type": "markdown",
   "metadata": {},
   "source": [
    "#### c. Transforming features using the learned scaler"
   ]
  },
  {
   "cell_type": "code",
   "execution_count": 25,
   "metadata": {},
   "outputs": [],
   "source": [
    "scaler_pkl = open('standard_scale.pkl', 'rb')\n",
    "scaler = pickle.load(scaler_pkl)\n",
    "scaler_pkl.close()\n",
    "\n",
    "test_features = scaler.transform(test_features)"
   ]
  },
  {
   "cell_type": "markdown",
   "metadata": {},
   "source": [
    "#### d. Loading the trained model"
   ]
  },
  {
   "cell_type": "code",
   "execution_count": 26,
   "metadata": {},
   "outputs": [],
   "source": [
    "regressor_pkl = open('stocks_regression.pkl', 'rb')\n",
    "regressor = pickle.load(regressor_pkl)\n",
    "regressor_pkl.close()\n",
    "\n",
    "predicted_values = regressor.predict(test_features)"
   ]
  },
  {
   "cell_type": "markdown",
   "metadata": {},
   "source": [
    "#### e. Evaluation"
   ]
  },
  {
   "cell_type": "code",
   "execution_count": 27,
   "metadata": {},
   "outputs": [
    {
     "name": "stdout",
     "output_type": "stream",
     "text": [
      "Mean Squared Error= 1.3098394718597799e-08\n"
     ]
    }
   ],
   "source": [
    "print('Mean Squared Error=', mean_squared_error(target, predicted_values))"
   ]
  },
  {
   "cell_type": "markdown",
   "metadata": {},
   "source": [
    "### 8. Optimization\n",
    "\n",
    "No need to optimize this model. It's already performing well."
   ]
  }
 ],
 "metadata": {
  "kernelspec": {
   "display_name": "Python 3",
   "language": "python",
   "name": "python3"
  },
  "language_info": {
   "codemirror_mode": {
    "name": "ipython",
    "version": 3
   },
   "file_extension": ".py",
   "mimetype": "text/x-python",
   "name": "python",
   "nbconvert_exporter": "python",
   "pygments_lexer": "ipython3",
   "version": "3.6.7"
  }
 },
 "nbformat": 4,
 "nbformat_minor": 2
}
